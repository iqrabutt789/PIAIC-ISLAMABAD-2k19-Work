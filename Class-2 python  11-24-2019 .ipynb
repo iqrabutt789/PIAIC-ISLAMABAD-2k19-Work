{
 "cells": [
  {
   "cell_type": "code",
   "execution_count": 1,
   "metadata": {},
   "outputs": [
    {
     "name": "stdout",
     "output_type": "stream",
     "text": [
      "The Zen of Python, by Tim Peters\n",
      "\n",
      "Beautiful is better than ugly.\n",
      "Explicit is better than implicit.\n",
      "Simple is better than complex.\n",
      "Complex is better than complicated.\n",
      "Flat is better than nested.\n",
      "Sparse is better than dense.\n",
      "Readability counts.\n",
      "Special cases aren't special enough to break the rules.\n",
      "Although practicality beats purity.\n",
      "Errors should never pass silently.\n",
      "Unless explicitly silenced.\n",
      "In the face of ambiguity, refuse the temptation to guess.\n",
      "There should be one-- and preferably only one --obvious way to do it.\n",
      "Although that way may not be obvious at first unless you're Dutch.\n",
      "Now is better than never.\n",
      "Although never is often better than *right* now.\n",
      "If the implementation is hard to explain, it's a bad idea.\n",
      "If the implementation is easy to explain, it may be a good idea.\n",
      "Namespaces are one honking great idea -- let's do more of those!\n"
     ]
    }
   ],
   "source": [
    "import this"
   ]
  },
  {
   "cell_type": "markdown",
   "metadata": {},
   "source": [
    "# Data Types"
   ]
  },
  {
   "cell_type": "markdown",
   "metadata": {},
   "source": [
    "# Operation,Operator and Operends "
   ]
  },
  {
   "cell_type": "code",
   "execution_count": 2,
   "metadata": {},
   "outputs": [
    {
     "name": "stdout",
     "output_type": "stream",
     "text": [
      "53.5\n"
     ]
    }
   ],
   "source": [
    "#PEMDAS (Prenthisis,Exponent,Multiply,Division,Addition,Substraction)\n",
    "print(8*7+3/2-4)"
   ]
  },
  {
   "cell_type": "code",
   "execution_count": 10,
   "metadata": {},
   "outputs": [
    {
     "name": "stdout",
     "output_type": "stream",
     "text": [
      "7\n",
      "8\n"
     ]
    }
   ],
   "source": [
    "a = 7\n",
    "b = 8\n",
    "print(a)\n",
    "print(b)"
   ]
  },
  {
   "cell_type": "code",
   "execution_count": 15,
   "metadata": {},
   "outputs": [
    {
     "data": {
      "text/plain": [
       "int"
      ]
     },
     "execution_count": 15,
     "metadata": {},
     "output_type": "execute_result"
    }
   ],
   "source": [
    "a = 7\n",
    "type(a)\n"
   ]
  },
  {
   "cell_type": "code",
   "execution_count": null,
   "metadata": {},
   "outputs": [],
   "source": [
    "b = 20.25\n",
    "type(b)\n"
   ]
  },
  {
   "cell_type": "code",
   "execution_count": 16,
   "metadata": {},
   "outputs": [
    {
     "data": {
      "text/plain": [
       "bool"
      ]
     },
     "execution_count": 16,
     "metadata": {},
     "output_type": "execute_result"
    }
   ],
   "source": [
    "c = True\n",
    "type(c)"
   ]
  },
  {
   "cell_type": "code",
   "execution_count": 11,
   "metadata": {},
   "outputs": [
    {
     "name": "stdout",
     "output_type": "stream",
     "text": [
      "140707646317136\n",
      "140707646317168\n"
     ]
    }
   ],
   "source": [
    "print(id(a))\n",
    "print(id(b))\n",
    "\n",
    "#shallow copy and deep copy\n",
    "#shallow copy only address of variable copy by reference for example a = ali and b = a if b is also ali\n",
    "#deep copy the content of variable "
   ]
  },
  {
   "cell_type": "code",
   "execution_count": 17,
   "metadata": {},
   "outputs": [
    {
     "data": {
      "text/plain": [
       "str"
      ]
     },
     "execution_count": 17,
     "metadata": {},
     "output_type": "execute_result"
    }
   ],
   "source": [
    "a = 'h'\n",
    "type(a)"
   ]
  },
  {
   "cell_type": "code",
   "execution_count": 19,
   "metadata": {},
   "outputs": [
    {
     "name": "stdout",
     "output_type": "stream",
     "text": [
      "['Hamza', 'Iqbal', 20, True, False]\n"
     ]
    }
   ],
   "source": [
    "#index   0          1    2   3    4\n",
    "name = [\"Hamza\",\"Iqbal\",20,True,False]\n",
    "#index    -5       -4    -3  -2    -1\n",
    "\n",
    "print(name)\n",
    "\n",
    "#homogenious data have same data type like array\n",
    "#hetrogenious data have multiple types of data like list"
   ]
  },
  {
   "cell_type": "code",
   "execution_count": 23,
   "metadata": {},
   "outputs": [
    {
     "name": "stdout",
     "output_type": "stream",
     "text": [
      "Hamza\n",
      "Iqbal\n",
      "20\n"
     ]
    },
    {
     "data": {
      "text/plain": [
       "tuple"
      ]
     },
     "execution_count": 23,
     "metadata": {},
     "output_type": "execute_result"
    }
   ],
   "source": [
    "#index   0          1    2   3    4\n",
    "name = (\"Hamza\",\"Iqbal\",20,True,False) #Example of tuple\n",
    "#index    -5       -4    -3  -2    -1\n",
    "\n",
    "print(name[0])\n",
    "print(name[1])\n",
    "print(name[2])\n",
    "type(name)"
   ]
  },
  {
   "cell_type": "code",
   "execution_count": 26,
   "metadata": {},
   "outputs": [
    {
     "name": "stdout",
     "output_type": "stream",
     "text": [
      "{'Hassnain', 'Zohaib', 'Hamza', 'Iqbal'}\n"
     ]
    },
    {
     "data": {
      "text/plain": [
       "set"
      ]
     },
     "execution_count": 26,
     "metadata": {},
     "output_type": "execute_result"
    }
   ],
   "source": [
    "name = {\"Hamza\",\"Iqbal\",\"Hassnain\",\"Zohaib\",\"Hamza\"} #Example of set return duplication only once\n",
    "#index    -5       -4    -3  -2    -1\n",
    "\n",
    "print(name)\n",
    "type(name)"
   ]
  },
  {
   "cell_type": "code",
   "execution_count": 31,
   "metadata": {},
   "outputs": [
    {
     "name": "stdout",
     "output_type": "stream",
     "text": [
      "Hassnain\n"
     ]
    },
    {
     "data": {
      "text/plain": [
       "tuple"
      ]
     },
     "execution_count": 31,
     "metadata": {},
     "output_type": "execute_result"
    }
   ],
   "source": [
    "name = {\"Hamza\",\"Iqbal\",\"Hassnain\",\"Zohaib\",\"Hamza\"} #Example of set return duplication only once\n",
    "#index    -5       -4    -3  -2    -1\n",
    "names = tuple(name)\n",
    "print(names[0]) #type casting\n",
    "type(names)"
   ]
  },
  {
   "cell_type": "code",
   "execution_count": 40,
   "metadata": {},
   "outputs": [
    {
     "name": "stdout",
     "output_type": "stream",
     "text": [
      "Hamza iqbal\n"
     ]
    },
    {
     "data": {
      "text/plain": [
       "dict"
      ]
     },
     "execution_count": 40,
     "metadata": {},
     "output_type": "execute_result"
    }
   ],
   "source": [
    "my_Data = {\"Name\":\"Hamza iqbal\",\n",
    "        \"Father_Name\":\"Iqbal\",\n",
    "        \"Class\" : \"PIAIC AI\",\n",
    "        \"Age\":22}\n",
    "\n",
    "print(my_Data[\"Name\"])\n",
    "type(name)\n",
    "\n",
    "#mutable jo change ho sakta ha\n",
    "#imutable jo change nahi ho sakta\n",
    "#"
   ]
  },
  {
   "cell_type": "code",
   "execution_count": 44,
   "metadata": {},
   "outputs": [
    {
     "name": "stdout",
     "output_type": "stream",
     "text": [
      "False\n",
      "2119215625200\n",
      "2119218249136\n"
     ]
    },
    {
     "data": {
      "text/plain": [
       "['__add__',\n",
       " '__class__',\n",
       " '__contains__',\n",
       " '__delattr__',\n",
       " '__dir__',\n",
       " '__doc__',\n",
       " '__eq__',\n",
       " '__format__',\n",
       " '__ge__',\n",
       " '__getattribute__',\n",
       " '__getitem__',\n",
       " '__getnewargs__',\n",
       " '__gt__',\n",
       " '__hash__',\n",
       " '__init__',\n",
       " '__init_subclass__',\n",
       " '__iter__',\n",
       " '__le__',\n",
       " '__len__',\n",
       " '__lt__',\n",
       " '__mod__',\n",
       " '__mul__',\n",
       " '__ne__',\n",
       " '__new__',\n",
       " '__reduce__',\n",
       " '__reduce_ex__',\n",
       " '__repr__',\n",
       " '__rmod__',\n",
       " '__rmul__',\n",
       " '__setattr__',\n",
       " '__sizeof__',\n",
       " '__str__',\n",
       " '__subclasshook__',\n",
       " 'capitalize',\n",
       " 'casefold',\n",
       " 'center',\n",
       " 'count',\n",
       " 'encode',\n",
       " 'endswith',\n",
       " 'expandtabs',\n",
       " 'find',\n",
       " 'format',\n",
       " 'format_map',\n",
       " 'index',\n",
       " 'isalnum',\n",
       " 'isalpha',\n",
       " 'isascii',\n",
       " 'isdecimal',\n",
       " 'isdigit',\n",
       " 'isidentifier',\n",
       " 'islower',\n",
       " 'isnumeric',\n",
       " 'isprintable',\n",
       " 'isspace',\n",
       " 'istitle',\n",
       " 'isupper',\n",
       " 'join',\n",
       " 'ljust',\n",
       " 'lower',\n",
       " 'lstrip',\n",
       " 'maketrans',\n",
       " 'partition',\n",
       " 'replace',\n",
       " 'rfind',\n",
       " 'rindex',\n",
       " 'rjust',\n",
       " 'rpartition',\n",
       " 'rsplit',\n",
       " 'rstrip',\n",
       " 'split',\n",
       " 'splitlines',\n",
       " 'startswith',\n",
       " 'strip',\n",
       " 'swapcase',\n",
       " 'title',\n",
       " 'translate',\n",
       " 'upper',\n",
       " 'zfill']"
      ]
     },
     "execution_count": 44,
     "metadata": {},
     "output_type": "execute_result"
    }
   ],
   "source": [
    "#operations in memory and inline in data types\n",
    "#inline only change in front end\n",
    "#inmemory change real data in memory\n",
    "#Shift + tab show the current available functions of current fucntion.\n",
    "name1 = \"HamZa IqBal\"\n",
    "name2 = \"hamza iqbal\"\n",
    "\n",
    "print(name1 == name2)\n",
    "\n",
    "print(id(name1))\n",
    "print(id(name2))\n",
    "\n",
    "#help(str)\n",
    "\n",
    "dir(name1)"
   ]
  },
  {
   "cell_type": "code",
   "execution_count": 47,
   "metadata": {},
   "outputs": [
    {
     "name": "stdout",
     "output_type": "stream",
     "text": [
      "HAMZA IQBAL\n",
      "Hamza iqbal\n"
     ]
    },
    {
     "ename": "NameError",
     "evalue": "name 'my_name' is not defined",
     "output_type": "error",
     "traceback": [
      "\u001b[1;31m---------------------------------------------------------------------------\u001b[0m",
      "\u001b[1;31mNameError\u001b[0m                                 Traceback (most recent call last)",
      "\u001b[1;32m<ipython-input-47-d0629afab1d7>\u001b[0m in \u001b[0;36m<module>\u001b[1;34m\u001b[0m\n\u001b[0;32m      7\u001b[0m \u001b[1;32mdel\u001b[0m \u001b[0mmy_name\u001b[0m\u001b[1;33m\u001b[0m\u001b[1;33m\u001b[0m\u001b[0m\n\u001b[0;32m      8\u001b[0m \u001b[1;33m\u001b[0m\u001b[0m\n\u001b[1;32m----> 9\u001b[1;33m \u001b[0mprint\u001b[0m\u001b[1;33m(\u001b[0m\u001b[0mmy_name\u001b[0m\u001b[1;33m)\u001b[0m\u001b[1;33m\u001b[0m\u001b[1;33m\u001b[0m\u001b[0m\n\u001b[0m",
      "\u001b[1;31mNameError\u001b[0m: name 'my_name' is not defined"
     ]
    }
   ],
   "source": [
    "#Assignment perform all the string methods to string name and push it on GitHub\n",
    "\n",
    "my_name = \"Hamza iqbal\"\n",
    "print(my_name.upper())\n",
    "print(my_name)\n",
    "\n",
    "del my_name #release the data from the ram along with variable names\n",
    "\n",
    "print(my_name)"
   ]
  },
  {
   "cell_type": "code",
   "execution_count": 57,
   "metadata": {},
   "outputs": [
    {
     "name": "stdout",
     "output_type": "stream",
     "text": [
      "39\n",
      "            Hamza Iqbal                \n",
      "Hamza iqbal                \n",
      "27\n",
      "11\n"
     ]
    }
   ],
   "source": [
    "test = \"            Hamza iqbal                \"\n",
    "print(len(test))\n",
    "print(test.title())\n",
    "\n",
    "#Functions to clean data or any regular expressions we can use\n",
    "print(test.lstrip())\n",
    "print(len(test.lstrip()))\n",
    "print(len(test.strip()))"
   ]
  },
  {
   "cell_type": "code",
   "execution_count": 59,
   "metadata": {},
   "outputs": [
    {
     "data": {
      "text/plain": [
       "39"
      ]
     },
     "execution_count": 59,
     "metadata": {},
     "output_type": "execute_result"
    }
   ],
   "source": [
    "_mydata = \"I am student of BSCS 7th Semester from Iqra University islamabad Campus\"\n",
    "_mydata.find(\"Iqra\")"
   ]
  },
  {
   "cell_type": "code",
   "execution_count": 69,
   "metadata": {},
   "outputs": [
    {
     "data": {
      "text/plain": [
       "'Iqra University'"
      ]
     },
     "execution_count": 69,
     "metadata": {},
     "output_type": "execute_result"
    }
   ],
   "source": [
    "#for slicing remeber three thing = strat end and step\n",
    "_mydata[39:54:1] #Slicing"
   ]
  },
  {
   "cell_type": "code",
   "execution_count": 73,
   "metadata": {},
   "outputs": [
    {
     "name": "stdout",
     "output_type": "stream",
     "text": [
      "['I am student of BSCS 7th Semester from ', ' University islamabad Campus']\n"
     ]
    }
   ],
   "source": [
    "_mydata = \"I am student of BSCS 7th Semester from Iqra University islamabad Campus\"\n",
    "b = _mydata.split(\"Iqra\")\n",
    "print(b)"
   ]
  },
  {
   "cell_type": "code",
   "execution_count": 83,
   "metadata": {},
   "outputs": [
    {
     "name": "stdout",
     "output_type": "stream",
     "text": [
      "1\n"
     ]
    }
   ],
   "source": [
    "_mydata = \"I am student of BSCS 7th Semester from Iqra University islamabad Campus\"\n",
    "\n",
    "print(_mydata.count(\"Iqra University\"))"
   ]
  },
  {
   "cell_type": "code",
   "execution_count": 84,
   "metadata": {},
   "outputs": [
    {
     "name": "stdout",
     "output_type": "stream",
     "text": [
      "I am student of bscs 7th semester from iqra university islamabad campus\n"
     ]
    }
   ],
   "source": [
    "_mydata = \"I am student of BSCS 7th Semester from Iqra University islamabad Campus\"\n",
    "b = _mydata.capitalize() #only first latter is captilized\n",
    "print(b)"
   ]
  },
  {
   "cell_type": "code",
   "execution_count": 85,
   "metadata": {},
   "outputs": [
    {
     "name": "stdout",
     "output_type": "stream",
     "text": [
      "I am student of BSCS 7th Semesterfrom Iqra University islamabad Campus\n"
     ]
    }
   ],
   "source": [
    "_mydata = \"I am student of BSCS 7th Semester\"\n",
    "_uni_info = \"from Iqra University islamabad Campus\"\n",
    "\n",
    "#concatination with + symbol\n",
    "\n",
    "_my_info = _mydata + _uni_info #concatination merg the string into single string\n",
    "\n",
    "print(_my_info)"
   ]
  },
  {
   "cell_type": "code",
   "execution_count": 90,
   "metadata": {},
   "outputs": [
    {
     "name": "stdout",
     "output_type": "stream",
     "text": [
      "Name : Hamza iqbal \n",
      " Father Name : Muhammad Iqbal\n"
     ]
    }
   ],
   "source": [
    "Name = \"Hamza iqbal\"\n",
    "Fname = \"Muhammad Iqbal\"\n",
    "#concatination with % symbol\n",
    "\n",
    "print(\"Name : %s \\n Father Name : %s\"%(Name,Fname))"
   ]
  },
  {
   "cell_type": "code",
   "execution_count": 93,
   "metadata": {},
   "outputs": [
    {
     "name": "stdout",
     "output_type": "stream",
     "text": [
      "Name : Hamza iqbal\n",
      "Father Name : Muhammad Iqbal\n"
     ]
    }
   ],
   "source": [
    "_mydata = \"Hamza iqbal\"\n",
    "_uni_info = \"Muhammad Iqbal\"\n",
    "\n",
    "#concatination with + symbol\n",
    "\n",
    "_my_info = f'Name : {_mydata}\\nFather Name : {_uni_info}'\n",
    "\n",
    "print(_my_info)"
   ]
  },
  {
   "cell_type": "code",
   "execution_count": 97,
   "metadata": {},
   "outputs": [
    {
     "name": "stdout",
     "output_type": "stream",
     "text": [
      "Hamza iqbal\n",
      "Muhammad Iqbal\n",
      "28186\n"
     ]
    }
   ],
   "source": [
    "_mydata = \"Hamza iqbal\"\n",
    "_uni_info = \"Muhammad Iqbal\"\n",
    "_uni_info_id = 28186\n",
    "#concatination with + symbol\n",
    "\n",
    "_my_info = _mydata +\"\\n\" +_uni_info +\"\\n\"+ str(_uni_info_id)\n",
    "\n",
    "print(_my_info)"
   ]
  },
  {
   "cell_type": "code",
   "execution_count": 98,
   "metadata": {},
   "outputs": [
    {
     "data": {
      "text/plain": [
       "'Name: Hamza iqbal,\\n Father Name: Muhammad Iqbal'"
      ]
     },
     "execution_count": 98,
     "metadata": {},
     "output_type": "execute_result"
    }
   ],
   "source": [
    "\"Name: {},\\n Father Name: {}\".format(_mydata,_uni_info)"
   ]
  },
  {
   "cell_type": "code",
   "execution_count": 100,
   "metadata": {},
   "outputs": [
    {
     "data": {
      "text/plain": [
       "'Name: Muhammad Iqbal,\\n Father Name: Hamza iqbal'"
      ]
     },
     "execution_count": 100,
     "metadata": {},
     "output_type": "execute_result"
    }
   ],
   "source": [
    "\"Name: {1},\\n Father Name: {0}\".format(_mydata,_uni_info)"
   ]
  },
  {
   "cell_type": "code",
   "execution_count": 101,
   "metadata": {},
   "outputs": [
    {
     "data": {
      "text/plain": [
       "'Name: Hamza iqbal,\\n Father Name: Muhammad Iqbal'"
      ]
     },
     "execution_count": 101,
     "metadata": {},
     "output_type": "execute_result"
    }
   ],
   "source": [
    "\"Name: {na},\\n Father Name: {fn}\".format(na = _mydata,fn = _uni_info)"
   ]
  },
  {
   "cell_type": "code",
   "execution_count": null,
   "metadata": {},
   "outputs": [],
   "source": [
    "#tag assignment to rouf shahzad and adan"
   ]
  }
 ],
 "metadata": {
  "kernelspec": {
   "display_name": "Python 3",
   "language": "python",
   "name": "python3"
  },
  "language_info": {
   "codemirror_mode": {
    "name": "ipython",
    "version": 3
   },
   "file_extension": ".py",
   "mimetype": "text/x-python",
   "name": "python",
   "nbconvert_exporter": "python",
   "pygments_lexer": "ipython3",
   "version": "3.7.4"
  }
 },
 "nbformat": 4,
 "nbformat_minor": 2
}
